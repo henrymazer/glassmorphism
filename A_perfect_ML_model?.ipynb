{
  "metadata": {
    "kernelspec": {
      "language": "python",
      "display_name": "Python 3",
      "name": "python3"
    },
    "language_info": {
      "name": "python",
      "version": "3.10.13",
      "mimetype": "text/x-python",
      "codemirror_mode": {
        "name": "ipython",
        "version": 3
      },
      "pygments_lexer": "ipython3",
      "nbconvert_exporter": "python",
      "file_extension": ".py"
    },
    "kaggle": {
      "accelerator": "none",
      "dataSources": [
        {
          "sourceId": 8744629,
          "sourceType": "datasetVersion",
          "datasetId": 5250700
        }
      ],
      "dockerImageVersionId": 30732,
      "isInternetEnabled": false,
      "language": "python",
      "sourceType": "notebook",
      "isGpuEnabled": false
    },
    "colab": {
      "name": "A perfect ML model?",
      "provenance": [],
      "include_colab_link": true
    }
  },
  "nbformat_minor": 0,
  "nbformat": 4,
  "cells": [
    {
      "cell_type": "markdown",
      "metadata": {
        "id": "view-in-github",
        "colab_type": "text"
      },
      "source": [
        "<a href=\"https://colab.research.google.com/github/henrymazer/glassmorphism/blob/main/A_perfect_ML_model%3F.ipynb\" target=\"_parent\"><img src=\"https://colab.research.google.com/assets/colab-badge.svg\" alt=\"Open In Colab\"/></a>"
      ]
    },
    {
      "source": [
        "\n",
        "# IMPORTANT: RUN THIS CELL IN ORDER TO IMPORT YOUR KAGGLE DATA SOURCES\n",
        "# TO THE CORRECT LOCATION (/kaggle/input) IN YOUR NOTEBOOK,\n",
        "# THEN FEEL FREE TO DELETE THIS CELL.\n",
        "# NOTE: THIS NOTEBOOK ENVIRONMENT DIFFERS FROM KAGGLE'S PYTHON\n",
        "# ENVIRONMENT SO THERE MAY BE MISSING LIBRARIES USED BY YOUR\n",
        "# NOTEBOOK.\n",
        "\n",
        "import os\n",
        "import sys\n",
        "from tempfile import NamedTemporaryFile\n",
        "from urllib.request import urlopen\n",
        "from urllib.parse import unquote, urlparse\n",
        "from urllib.error import HTTPError\n",
        "from zipfile import ZipFile\n",
        "import tarfile\n",
        "import shutil\n",
        "\n",
        "CHUNK_SIZE = 40960\n",
        "DATA_SOURCE_MAPPING = 'predict-online-dating-matches-dataset:https%3A%2F%2Fstorage.googleapis.com%2Fkaggle-data-sets%2F5250700%2F8744629%2Fbundle%2Farchive.zip%3FX-Goog-Algorithm%3DGOOG4-RSA-SHA256%26X-Goog-Credential%3Dgcp-kaggle-com%2540kaggle-161607.iam.gserviceaccount.com%252F20240823%252Fauto%252Fstorage%252Fgoog4_request%26X-Goog-Date%3D20240823T231210Z%26X-Goog-Expires%3D259200%26X-Goog-SignedHeaders%3Dhost%26X-Goog-Signature%3D02e5e9f3d397203f8f358df59655f5a27886c1b8419035bf7f13d43bab77c915a861115f9b81613386dd46acfac781a01fb98798bb3c0be9d7dbd7669e39b13535be44731ef182cebbc86a024fd6f37fab3c14799d50c5401e51efce4c9c7442fc9da7bb54fb00a6c6a7bf9a5939f73a842159fd1247bf64c22e34f3557b71cc1781f303ec52825047c82025eb2cd83fdcf3761ba4edddb4c3bd5467ac2fa235a3eccd1bb41b02010f34db9013754ba61830e8af4fbbf20cc52b6c8459aeaacfb962bdcb2c22e94475da790f8515fc293784d9b9e379ddc05e3a8407c7fc0836bfd436e7169e85450d1165b022f51862c0a0e306d64444a6af1b6cf3d38f9751'\n",
        "\n",
        "KAGGLE_INPUT_PATH='/kaggle/input'\n",
        "KAGGLE_WORKING_PATH='/kaggle/working'\n",
        "KAGGLE_SYMLINK='kaggle'\n",
        "\n",
        "!umount /kaggle/input/ 2> /dev/null\n",
        "shutil.rmtree('/kaggle/input', ignore_errors=True)\n",
        "os.makedirs(KAGGLE_INPUT_PATH, 0o777, exist_ok=True)\n",
        "os.makedirs(KAGGLE_WORKING_PATH, 0o777, exist_ok=True)\n",
        "\n",
        "try:\n",
        "  os.symlink(KAGGLE_INPUT_PATH, os.path.join(\"..\", 'input'), target_is_directory=True)\n",
        "except FileExistsError:\n",
        "  pass\n",
        "try:\n",
        "  os.symlink(KAGGLE_WORKING_PATH, os.path.join(\"..\", 'working'), target_is_directory=True)\n",
        "except FileExistsError:\n",
        "  pass\n",
        "\n",
        "for data_source_mapping in DATA_SOURCE_MAPPING.split(','):\n",
        "    directory, download_url_encoded = data_source_mapping.split(':')\n",
        "    download_url = unquote(download_url_encoded)\n",
        "    filename = urlparse(download_url).path\n",
        "    destination_path = os.path.join(KAGGLE_INPUT_PATH, directory)\n",
        "    try:\n",
        "        with urlopen(download_url) as fileres, NamedTemporaryFile() as tfile:\n",
        "            total_length = fileres.headers['content-length']\n",
        "            print(f'Downloading {directory}, {total_length} bytes compressed')\n",
        "            dl = 0\n",
        "            data = fileres.read(CHUNK_SIZE)\n",
        "            while len(data) > 0:\n",
        "                dl += len(data)\n",
        "                tfile.write(data)\n",
        "                done = int(50 * dl / int(total_length))\n",
        "                sys.stdout.write(f\"\\r[{'=' * done}{' ' * (50-done)}] {dl} bytes downloaded\")\n",
        "                sys.stdout.flush()\n",
        "                data = fileres.read(CHUNK_SIZE)\n",
        "            if filename.endswith('.zip'):\n",
        "              with ZipFile(tfile) as zfile:\n",
        "                zfile.extractall(destination_path)\n",
        "            else:\n",
        "              with tarfile.open(tfile.name) as tarfile:\n",
        "                tarfile.extractall(destination_path)\n",
        "            print(f'\\nDownloaded and uncompressed: {directory}')\n",
        "    except HTTPError as e:\n",
        "        print(f'Failed to load (likely expired) {download_url} to path {destination_path}')\n",
        "        continue\n",
        "    except OSError as e:\n",
        "        print(f'Failed to load {download_url} to path {destination_path}')\n",
        "        continue\n",
        "\n",
        "print('Data source import complete.')\n"
      ],
      "metadata": {
        "id": "kSIlSM6ygwlw"
      },
      "cell_type": "code",
      "outputs": [],
      "execution_count": null
    },
    {
      "cell_type": "markdown",
      "source": [
        "# INTRODUCTION"
      ],
      "metadata": {
        "id": "BYTcoz4qgwl0"
      }
    },
    {
      "cell_type": "markdown",
      "source": [
        "![](https://i.imgur.com/FtIazQy.png)"
      ],
      "metadata": {
        "execution": {
          "iopub.status.busy": "2024-06-25T08:27:07.560824Z",
          "iopub.execute_input": "2024-06-25T08:27:07.561969Z",
          "iopub.status.idle": "2024-06-25T08:27:08.61489Z",
          "shell.execute_reply.started": "2024-06-25T08:27:07.561927Z",
          "shell.execute_reply": "2024-06-25T08:27:08.613096Z"
        },
        "id": "OWy2_iCygwl1"
      }
    },
    {
      "cell_type": "markdown",
      "source": [
        "In this data analysis, we explore the world of online dating, aiming to uncover the differences between men with and without matches. By examining variable distributions, relationships, and running statistical tests, we find the key factors that influence match success. We also run a machine learning model to predict matches based on personal information!\n",
        "\n",
        "If you're new to the data world, you'll get to learn about:\n",
        "- Treating datasets with Pandas\n",
        "- Exploratory Data Analysis\n",
        "- Hypothesis Testing\n",
        "- Predictions\n",
        "- Storytelling with Data\n",
        "\n",
        "Besides, I'll end with a little investigation on why our predictions were so perfect, something almost impossible with real world data.\n",
        "\n",
        "As you'll see during the analysis, this actually look much more like a real task in a data team than I expected, I even found a problem in the data!"
      ],
      "metadata": {
        "id": "ddc8eumOgwl1"
      }
    },
    {
      "cell_type": "markdown",
      "source": [
        "# LOAD LIBRARIES AND DATA"
      ],
      "metadata": {
        "id": "KbYPBBd5gwl2"
      }
    },
    {
      "cell_type": "code",
      "source": [
        "import numpy as np\n",
        "import pandas as pd\n",
        "\n",
        "import seaborn as sns\n",
        "import matplotlib.pyplot as plt\n",
        "plt.style.use('ggplot')\n",
        "\n",
        "from sklearn.model_selection import train_test_split\n",
        "from sklearn.preprocessing import StandardScaler\n",
        "from sklearn.ensemble import RandomForestRegressor\n",
        "from sklearn.linear_model import LinearRegression\n",
        "from sklearn.metrics import r2_score, mean_squared_error, mean_absolute_error\n",
        "\n",
        "import statsmodels.api as sm\n",
        "from statsmodels.formula.api import ols\n",
        "import statsmodels.stats.multicomp as multi\n",
        "\n",
        "\n",
        "from scipy.stats import ttest_ind\n",
        "\n",
        "import os\n",
        "for dirname, _, filenames in os.walk('/kaggle/input'):\n",
        "    for filename in filenames:\n",
        "        print(os.path.join(dirname, filename))\n",
        "\n"
      ],
      "metadata": {
        "_uuid": "8f2839f25d086af736a60e9eeb907d3b93b6e0e5",
        "_cell_guid": "b1076dfc-b9ad-4769-8c92-a6c4dae69d19",
        "execution": {
          "iopub.status.busy": "2024-06-25T18:54:45.691772Z",
          "iopub.execute_input": "2024-06-25T18:54:45.692172Z",
          "iopub.status.idle": "2024-06-25T18:54:45.703381Z",
          "shell.execute_reply.started": "2024-06-25T18:54:45.692144Z",
          "shell.execute_reply": "2024-06-25T18:54:45.702121Z"
        },
        "trusted": true,
        "id": "P_TwjpP2gwl2"
      },
      "execution_count": null,
      "outputs": []
    },
    {
      "cell_type": "code",
      "source": [
        "data = pd.read_csv(os.path.join(dirname, filename))\n",
        "data.head()"
      ],
      "metadata": {
        "execution": {
          "iopub.status.busy": "2024-06-25T18:53:30.123643Z",
          "iopub.execute_input": "2024-06-25T18:53:30.124564Z",
          "iopub.status.idle": "2024-06-25T18:53:30.165951Z",
          "shell.execute_reply.started": "2024-06-25T18:53:30.124521Z",
          "shell.execute_reply": "2024-06-25T18:53:30.164826Z"
        },
        "trusted": true,
        "id": "Kt1lA9kCgwl2"
      },
      "execution_count": null,
      "outputs": []
    },
    {
      "cell_type": "code",
      "source": [
        "data.info()"
      ],
      "metadata": {
        "execution": {
          "iopub.status.busy": "2024-06-25T18:53:30.167195Z",
          "iopub.execute_input": "2024-06-25T18:53:30.167518Z",
          "iopub.status.idle": "2024-06-25T18:53:30.194649Z",
          "shell.execute_reply.started": "2024-06-25T18:53:30.167489Z",
          "shell.execute_reply": "2024-06-25T18:53:30.193367Z"
        },
        "trusted": true,
        "id": "f50pZKQfgwl3"
      },
      "execution_count": null,
      "outputs": []
    },
    {
      "cell_type": "markdown",
      "source": [
        "No column with missing values."
      ],
      "metadata": {
        "id": "adbCHbnggwl3"
      }
    },
    {
      "cell_type": "markdown",
      "source": [
        "# EXPLORATORY DATA ANALYSIS"
      ],
      "metadata": {
        "id": "83rRQuPxgwl4"
      }
    },
    {
      "cell_type": "markdown",
      "source": [
        "It's important to note that we don't use exploratory data analysis as a determining factor in feature selection, but rather as a way to gain new insights about the data.\n",
        "\n",
        "Why don't we use it?<br>\n",
        "Imagine you have a feature y that is determined by x_1, x_2, x_3, ..., x_10, with each x accounting for 10% of the variability of y. It is very likely that you won't see any relationship between the x's and y. Not to mention other cases where the feature's contribution to the target is hard to identify, such as certain non-linear relationships."
      ],
      "metadata": {
        "id": "v3AjpUnbgwl4"
      }
    },
    {
      "cell_type": "code",
      "source": [
        "data.head()"
      ],
      "metadata": {
        "execution": {
          "iopub.status.busy": "2024-06-25T18:53:30.198168Z",
          "iopub.execute_input": "2024-06-25T18:53:30.198675Z",
          "iopub.status.idle": "2024-06-25T18:53:30.214372Z",
          "shell.execute_reply.started": "2024-06-25T18:53:30.198632Z",
          "shell.execute_reply": "2024-06-25T18:53:30.213093Z"
        },
        "trusted": true,
        "id": "oYQj3IK3gwl4"
      },
      "execution_count": null,
      "outputs": []
    },
    {
      "cell_type": "markdown",
      "source": [
        "Let's already separate features from target and identify those which are dummies:"
      ],
      "metadata": {
        "id": "KsojT9nxgwl4"
      }
    },
    {
      "cell_type": "code",
      "source": [
        "features = ['Gender', 'PurchasedVIP', 'Income', 'Children', 'Age', 'Attractiveness']\n",
        "target = 'Matches'"
      ],
      "metadata": {
        "execution": {
          "iopub.status.busy": "2024-06-25T18:53:30.216106Z",
          "iopub.execute_input": "2024-06-25T18:53:30.216517Z",
          "iopub.status.idle": "2024-06-25T18:53:30.229931Z",
          "shell.execute_reply.started": "2024-06-25T18:53:30.216485Z",
          "shell.execute_reply": "2024-06-25T18:53:30.228604Z"
        },
        "trusted": true,
        "id": "5EA8D32pgwl4"
      },
      "execution_count": null,
      "outputs": []
    },
    {
      "cell_type": "code",
      "source": [
        "data.nunique().sort_values()"
      ],
      "metadata": {
        "execution": {
          "iopub.status.busy": "2024-06-25T18:53:30.232105Z",
          "iopub.execute_input": "2024-06-25T18:53:30.23265Z",
          "iopub.status.idle": "2024-06-25T18:53:30.253643Z",
          "shell.execute_reply.started": "2024-06-25T18:53:30.232603Z",
          "shell.execute_reply": "2024-06-25T18:53:30.252219Z"
        },
        "trusted": true,
        "id": "vRQ7A9qGgwl4"
      },
      "execution_count": null,
      "outputs": []
    },
    {
      "cell_type": "code",
      "source": [
        "fig, axs = plt.subplots(2, 2, figsize=(15, 8))\n",
        "fig.suptitle(\"Features Distributions\", fontsize=14)\n",
        "for ax, col in zip(axs.flatten(), ['Attractiveness', 'Matches', 'Age', 'Income']):\n",
        "    data.hist(column=col, ax=ax, bins=50)\n",
        "    ax.set_title(col, fontsize=10)\n",
        "\n",
        "fig.tight_layout()\n",
        "fig.subplots_adjust(top=0.85)\n",
        "plt.show()"
      ],
      "metadata": {
        "execution": {
          "iopub.status.busy": "2024-06-25T18:53:30.255396Z",
          "iopub.execute_input": "2024-06-25T18:53:30.255866Z",
          "iopub.status.idle": "2024-06-25T18:53:31.944052Z",
          "shell.execute_reply.started": "2024-06-25T18:53:30.25582Z",
          "shell.execute_reply": "2024-06-25T18:53:31.942605Z"
        },
        "trusted": true,
        "id": "JXwCePyTgwl5"
      },
      "execution_count": null,
      "outputs": []
    },
    {
      "cell_type": "markdown",
      "source": [
        "Ok, just to keep with the univariate analysis, let's check the variables with fewer unique values:"
      ],
      "metadata": {
        "id": "pyeg9qS1gwl5"
      }
    },
    {
      "cell_type": "code",
      "source": [
        "fig, axs = plt.subplots(1, 3, figsize=(20, 6))\n",
        "\n",
        "sns.countplot(x='Gender', data=data, ax=axs[0])\n",
        "axs[0].set_title('Gender Count')\n",
        "\n",
        "sns.countplot(x='PurchasedVIP', data=data, ax=axs[1])\n",
        "axs[1].set_title('Purchased VIP Count')\n",
        "\n",
        "sns.countplot(x='Children', data=data, ax=axs[2])\n",
        "axs[2].set_title('Children Count')\n",
        "\n",
        "fig.tight_layout()\n",
        "\n",
        "plt.show()\n"
      ],
      "metadata": {
        "execution": {
          "iopub.status.busy": "2024-06-25T18:53:31.945596Z",
          "iopub.execute_input": "2024-06-25T18:53:31.945994Z",
          "iopub.status.idle": "2024-06-25T18:53:32.760832Z",
          "shell.execute_reply.started": "2024-06-25T18:53:31.945959Z",
          "shell.execute_reply": "2024-06-25T18:53:32.759571Z"
        },
        "trusted": true,
        "id": "5BKYfDg6gwl5"
      },
      "execution_count": null,
      "outputs": []
    },
    {
      "cell_type": "markdown",
      "source": [
        "Our binary variables are pretty balanced. For children, we have something closer to what we see in the population."
      ],
      "metadata": {
        "id": "8NMywlQygwl5"
      }
    },
    {
      "cell_type": "markdown",
      "source": [
        "Now, going back to matches, our target, it's have an uncommon distribution. The author of the dataset mentioned the possibility of \"ghost users\", but we're sill studying these 'no matches'. Let's start by comparing those without matches with the rest of the sample:"
      ],
      "metadata": {
        "id": "hVPEMqxugwl5"
      }
    },
    {
      "cell_type": "code",
      "source": [
        "data['Match_Status'] = data['Matches'].apply(lambda x: 'With Matches' if x > 0 else 'Without Matches')\n",
        "\n",
        "columns = ['Attractiveness', 'Age', 'Income']\n",
        "\n",
        "fig, axs = plt.subplots(1, 3, figsize=(20, 6))\n",
        "\n",
        "for ax, col in zip(axs, columns):\n",
        "    sns.violinplot(x='Match_Status', y=col, data=data, ax=ax)\n",
        "    ax.set_title(f'{col} vs Matches')\n",
        "    ax.set_xlabel('Matches')\n",
        "    ax.set_ylabel(col)\n",
        "\n",
        "fig.tight_layout()\n",
        "plt.show()"
      ],
      "metadata": {
        "execution": {
          "iopub.status.busy": "2024-06-25T18:53:32.762764Z",
          "iopub.execute_input": "2024-06-25T18:53:32.763244Z",
          "iopub.status.idle": "2024-06-25T18:53:33.834453Z",
          "shell.execute_reply.started": "2024-06-25T18:53:32.7632Z",
          "shell.execute_reply": "2024-06-25T18:53:33.833193Z"
        },
        "trusted": true,
        "id": "Y1uEceikgwl5"
      },
      "execution_count": null,
      "outputs": []
    },
    {
      "cell_type": "markdown",
      "source": [
        "Not a big difference, probably won't even pass a t-test. But let's check this:"
      ],
      "metadata": {
        "id": "VFoAdLlOgwl5"
      }
    },
    {
      "cell_type": "code",
      "source": [
        "cols = ['Gender', 'PurchasedVIP', 'Children']\n",
        "\n",
        "\n",
        "fig, axs = plt.subplots(1, 3, figsize=(20, 6))\n",
        "\n",
        "for ax, col in zip(axs, cols):\n",
        "    mean_values = data.groupby('Match_Status')[col].mean().reset_index()\n",
        "    sns.barplot(x='Match_Status', y=col, data=mean_values, ax=ax)\n",
        "    ax.set_title(f'Mean {col} by Match Status')\n",
        "    ax.set_xlabel('Match Status')\n",
        "    ax.set_ylabel(f'Mean {col}')\n"
      ],
      "metadata": {
        "execution": {
          "iopub.status.busy": "2024-06-25T18:53:33.838681Z",
          "iopub.execute_input": "2024-06-25T18:53:33.839138Z",
          "iopub.status.idle": "2024-06-25T18:53:34.612744Z",
          "shell.execute_reply.started": "2024-06-25T18:53:33.839102Z",
          "shell.execute_reply": "2024-06-25T18:53:34.61152Z"
        },
        "trusted": true,
        "id": "0WbW2NfDgwl5"
      },
      "execution_count": null,
      "outputs": []
    },
    {
      "cell_type": "markdown",
      "source": [
        "All females and all VIP got matches! It's expected that they get more matches, but I wasn't expecting this!"
      ],
      "metadata": {
        "id": "DUewkUNngwl6"
      }
    },
    {
      "cell_type": "markdown",
      "source": [
        "What's the profile of those who didn't get matches?"
      ],
      "metadata": {
        "id": "CZhybZH1gwl6"
      }
    },
    {
      "cell_type": "code",
      "source": [
        "no_matches_data = data.query(\"Matches == 0 \")\n",
        "no_matches_data.describe()"
      ],
      "metadata": {
        "execution": {
          "iopub.status.busy": "2024-06-25T18:53:34.614314Z",
          "iopub.execute_input": "2024-06-25T18:53:34.61479Z",
          "iopub.status.idle": "2024-06-25T18:53:34.661449Z",
          "shell.execute_reply.started": "2024-06-25T18:53:34.614723Z",
          "shell.execute_reply": "2024-06-25T18:53:34.660041Z"
        },
        "trusted": true,
        "id": "KX8NmwWKgwl6"
      },
      "execution_count": null,
      "outputs": []
    },
    {
      "cell_type": "markdown",
      "source": [
        "The main characteristics of those without matches is being a man without a VIP signature. The other characteristics doesn't appear to be so different from those with matches. But let's compare men with men:"
      ],
      "metadata": {
        "id": "abumFXs8gwl6"
      }
    },
    {
      "cell_type": "code",
      "source": [
        "men_matches_data = data.query(\"Matches > 0 and Gender==0\")\n",
        "men_matches_data.describe()"
      ],
      "metadata": {
        "execution": {
          "iopub.status.busy": "2024-06-25T18:53:34.662643Z",
          "iopub.execute_input": "2024-06-25T18:53:34.663067Z",
          "iopub.status.idle": "2024-06-25T18:53:34.705952Z",
          "shell.execute_reply.started": "2024-06-25T18:53:34.663022Z",
          "shell.execute_reply": "2024-06-25T18:53:34.704571Z"
        },
        "trusted": true,
        "id": "ymq-QlC2gwl6"
      },
      "execution_count": null,
      "outputs": []
    },
    {
      "cell_type": "markdown",
      "source": [
        "See? Pretty close! And I bet it's not statistically significant!"
      ],
      "metadata": {
        "id": "onNnvtLHgwl6"
      }
    },
    {
      "cell_type": "code",
      "source": [
        "\n",
        "\n",
        "numerical_variables = ['Income', 'Children', 'Age', 'Attractiveness']\n",
        "\n",
        "for var in numerical_variables:\n",
        "    t_stat, p_value = ttest_ind(no_matches_data[var], men_matches_data[var])\n",
        "    if p_value < 0.05:\n",
        "        print(f'The difference in {var} between the two populations is statistically significant (t-statistic = {t_stat:.2f}, p-value = {p_value:.4f})')\n",
        "    else:\n",
        "        print(f'The difference in {var} between the two populations is not statistically significant (t-statistic = {t_stat:.2f}, p-value = {p_value:.4f})')"
      ],
      "metadata": {
        "execution": {
          "iopub.status.busy": "2024-06-25T18:53:34.707553Z",
          "iopub.execute_input": "2024-06-25T18:53:34.707936Z",
          "iopub.status.idle": "2024-06-25T18:53:34.726758Z",
          "shell.execute_reply.started": "2024-06-25T18:53:34.707904Z",
          "shell.execute_reply": "2024-06-25T18:53:34.725533Z"
        },
        "trusted": true,
        "id": "jTQBZw30gwl6"
      },
      "execution_count": null,
      "outputs": []
    },
    {
      "cell_type": "markdown",
      "source": [
        "Men usually think that being rich is a huge advantage for getting girls. They also believe women have many more 'opportunities' when it comes to dating. Let's assess these affirmations:"
      ],
      "metadata": {
        "id": "injw2VwRgwl6"
      }
    },
    {
      "cell_type": "code",
      "source": [
        "import plotly.express as px\n",
        "\n",
        "fig = px.scatter(data, x='Matches', y='Income', title='Matches vs Income')\n",
        "\n",
        "fig.show()"
      ],
      "metadata": {
        "execution": {
          "iopub.status.busy": "2024-06-25T18:53:34.728559Z",
          "iopub.execute_input": "2024-06-25T18:53:34.729102Z",
          "iopub.status.idle": "2024-06-25T18:53:37.914862Z",
          "shell.execute_reply.started": "2024-06-25T18:53:34.729051Z",
          "shell.execute_reply": "2024-06-25T18:53:37.913444Z"
        },
        "trusted": true,
        "id": "ECNXjnJDgwl7"
      },
      "execution_count": null,
      "outputs": []
    },
    {
      "cell_type": "code",
      "source": [
        "import plotly.graph_objects as go\n",
        "import plotly.subplots as sp\n",
        "\n",
        "male_data = data[data['Gender'] == 0]\n",
        "female_data = data[data['Gender'] == 1]\n",
        "\n",
        "fig = sp.make_subplots(rows=1, cols=2, subplot_titles=('Male', 'Female'))\n",
        "\n",
        "fig.add_trace(\n",
        "    go.Scatter(x=male_data['Matches'], y=male_data['Income'], mode='markers', name='Male'),\n",
        "    row=1, col=1\n",
        ")\n",
        "\n",
        "fig.add_trace(\n",
        "    go.Scatter(x=female_data['Matches'], y=female_data['Income'], mode='markers', name='Female'),\n",
        "    row=1, col=2\n",
        ")\n",
        "\n",
        "fig.update_layout(\n",
        "    title_text='Matches vs Income by Gender',\n",
        "    width=1000, height=500\n",
        ")\n",
        "\n",
        "fig.update_xaxes(title_text='Matches', row=1, col=1)\n",
        "fig.update_yaxes(title_text='Income', row=1, col=1)\n",
        "\n",
        "fig.update_xaxes(title_text='Matches', row=1, col=2)\n",
        "fig.update_yaxes(title_text='Income', row=1, col=2)\n",
        "\n",
        "# Show the plot\n",
        "fig.show()\n"
      ],
      "metadata": {
        "execution": {
          "iopub.status.busy": "2024-06-25T18:53:37.916545Z",
          "iopub.execute_input": "2024-06-25T18:53:37.917028Z",
          "iopub.status.idle": "2024-06-25T18:53:38.017636Z",
          "shell.execute_reply.started": "2024-06-25T18:53:37.916982Z",
          "shell.execute_reply": "2024-06-25T18:53:38.016346Z"
        },
        "trusted": true,
        "id": "eqYnMec0gwl7"
      },
      "execution_count": null,
      "outputs": []
    },
    {
      "cell_type": "markdown",
      "source": [
        "Well, women don't seem to find income attractive. At least, we can't say that for sure, and there aren't any insights on the subject here.\n",
        "\n",
        "The weirdest part is every man having either 0 or 70 matches. This is really weird, and I believe there was an error when the data was collected.\n",
        "\n",
        "We'll continue our study, but we have enough evidence not to trust this data.\n",
        "\n",
        "Hey, did you see? This is what I told you about before—this is what we do with EDA! Finding these inconsistencies is a big part of EDA!"
      ],
      "metadata": {
        "id": "1mGySFRBgwl7"
      }
    },
    {
      "cell_type": "code",
      "source": [
        "data.query('Gender==0').Matches.value_counts(normalize=True)"
      ],
      "metadata": {
        "execution": {
          "iopub.status.busy": "2024-06-25T18:53:38.019187Z",
          "iopub.execute_input": "2024-06-25T18:53:38.019528Z",
          "iopub.status.idle": "2024-06-25T18:53:38.037226Z",
          "shell.execute_reply.started": "2024-06-25T18:53:38.0195Z",
          "shell.execute_reply": "2024-06-25T18:53:38.03605Z"
        },
        "trusted": true,
        "id": "ZFWJHZhogwl7"
      },
      "execution_count": null,
      "outputs": []
    },
    {
      "cell_type": "markdown",
      "source": [
        "Now, let's compare men and women matches:"
      ],
      "metadata": {
        "id": "xicZMiq1gwl7"
      }
    },
    {
      "cell_type": "code",
      "source": [
        "data.groupby('Gender')['Matches'].mean()"
      ],
      "metadata": {
        "execution": {
          "iopub.status.busy": "2024-06-25T18:53:38.038554Z",
          "iopub.execute_input": "2024-06-25T18:53:38.038947Z",
          "iopub.status.idle": "2024-06-25T18:53:38.059095Z",
          "shell.execute_reply.started": "2024-06-25T18:53:38.038915Z",
          "shell.execute_reply": "2024-06-25T18:53:38.057811Z"
        },
        "trusted": true,
        "id": "t4C111Rigwl7"
      },
      "execution_count": null,
      "outputs": []
    },
    {
      "cell_type": "code",
      "source": [
        "sns.boxplot(x='Gender', y='Matches', data=data)"
      ],
      "metadata": {
        "execution": {
          "iopub.status.busy": "2024-06-25T18:53:38.06061Z",
          "iopub.execute_input": "2024-06-25T18:53:38.061064Z",
          "iopub.status.idle": "2024-06-25T18:53:38.350974Z",
          "shell.execute_reply.started": "2024-06-25T18:53:38.061022Z",
          "shell.execute_reply": "2024-06-25T18:53:38.349791Z"
        },
        "trusted": true,
        "id": "IhkvuYZOgwl8"
      },
      "execution_count": null,
      "outputs": []
    },
    {
      "cell_type": "markdown",
      "source": [
        "Well, no need to do any statistical tests here, right?"
      ],
      "metadata": {
        "id": "UlEMhrGGgwl8"
      }
    },
    {
      "cell_type": "markdown",
      "source": [
        "What about kids? Do they scare possible partners?"
      ],
      "metadata": {
        "id": "kPMj6bAfgwl_"
      }
    },
    {
      "cell_type": "code",
      "source": [
        "_ = sns.boxplot(x='Children', y='Matches', data=data)\n",
        "\n"
      ],
      "metadata": {
        "execution": {
          "iopub.status.busy": "2024-06-25T18:53:38.352775Z",
          "iopub.execute_input": "2024-06-25T18:53:38.353526Z",
          "iopub.status.idle": "2024-06-25T18:53:38.674684Z",
          "shell.execute_reply.started": "2024-06-25T18:53:38.353491Z",
          "shell.execute_reply": "2024-06-25T18:53:38.673011Z"
        },
        "trusted": true,
        "id": "B8yDsibxgwl_"
      },
      "execution_count": null,
      "outputs": []
    },
    {
      "cell_type": "markdown",
      "source": [
        "The mean is different for 2 children or more, but it's not clear if this is significant. Let's check:"
      ],
      "metadata": {
        "id": "Axvwj3oLgwl_"
      }
    },
    {
      "cell_type": "code",
      "source": [
        "model = ols('Matches ~ C(Children)', data=data).fit()\n",
        "anova_table = sm.stats.anova_lm(model, typ=2)\n",
        "print(anova_table)"
      ],
      "metadata": {
        "execution": {
          "iopub.status.busy": "2024-06-25T18:53:38.676306Z",
          "iopub.execute_input": "2024-06-25T18:53:38.676747Z",
          "iopub.status.idle": "2024-06-25T18:53:38.714555Z",
          "shell.execute_reply.started": "2024-06-25T18:53:38.676695Z",
          "shell.execute_reply": "2024-06-25T18:53:38.713374Z"
        },
        "trusted": true,
        "id": "EHKN5Dsmgwl_"
      },
      "execution_count": null,
      "outputs": []
    },
    {
      "cell_type": "markdown",
      "source": [
        "Wow, not really! That is unexpected. People usually talks so many things about single people with kids, but it looks like is something ok!"
      ],
      "metadata": {
        "id": "3eUHA_1Bgwl_"
      }
    },
    {
      "cell_type": "markdown",
      "source": [
        "Let's suppose male data has a problem, let's see what the data says about women:"
      ],
      "metadata": {
        "id": "FKp104L0gwmA"
      }
    },
    {
      "cell_type": "code",
      "source": [
        "women = data.query(\"Gender==1\")\n",
        "model = ols('Matches ~ C(Children)', data=women).fit()\n",
        "anova_table = sm.stats.anova_lm(model, typ=2)\n",
        "print(anova_table)"
      ],
      "metadata": {
        "execution": {
          "iopub.status.busy": "2024-06-25T18:53:38.716269Z",
          "iopub.execute_input": "2024-06-25T18:53:38.716656Z",
          "iopub.status.idle": "2024-06-25T18:53:38.750313Z",
          "shell.execute_reply.started": "2024-06-25T18:53:38.716622Z",
          "shell.execute_reply": "2024-06-25T18:53:38.74899Z"
        },
        "trusted": true,
        "id": "b7ijxkNBgwmA"
      },
      "execution_count": null,
      "outputs": []
    },
    {
      "cell_type": "markdown",
      "source": [
        "Well, still not different. So having a kid doesn't matter that much in the dating world!"
      ],
      "metadata": {
        "id": "n7DNR9ztgwmA"
      }
    },
    {
      "cell_type": "markdown",
      "source": [
        "# PREDICTING MATCHES"
      ],
      "metadata": {
        "id": "0Jswk3bwgwmA"
      }
    },
    {
      "cell_type": "markdown",
      "source": [
        "Can we build a reasonable predictive model?"
      ],
      "metadata": {
        "id": "Hld494AygwmA"
      }
    },
    {
      "cell_type": "code",
      "source": [
        "data.columns"
      ],
      "metadata": {
        "execution": {
          "iopub.status.busy": "2024-06-25T18:53:38.751717Z",
          "iopub.execute_input": "2024-06-25T18:53:38.75212Z",
          "iopub.status.idle": "2024-06-25T18:53:38.760761Z",
          "shell.execute_reply.started": "2024-06-25T18:53:38.752086Z",
          "shell.execute_reply": "2024-06-25T18:53:38.759119Z"
        },
        "trusted": true,
        "id": "5DtPD3srgwmA"
      },
      "execution_count": null,
      "outputs": []
    },
    {
      "cell_type": "code",
      "source": [
        "features"
      ],
      "metadata": {
        "execution": {
          "iopub.status.busy": "2024-06-25T18:53:38.762407Z",
          "iopub.execute_input": "2024-06-25T18:53:38.762843Z",
          "iopub.status.idle": "2024-06-25T18:53:38.77777Z",
          "shell.execute_reply.started": "2024-06-25T18:53:38.762804Z",
          "shell.execute_reply": "2024-06-25T18:53:38.77629Z"
        },
        "trusted": true,
        "id": "EGK8x9dtgwmA"
      },
      "execution_count": null,
      "outputs": []
    },
    {
      "cell_type": "code",
      "source": [
        "target"
      ],
      "metadata": {
        "execution": {
          "iopub.status.busy": "2024-06-25T18:53:38.779437Z",
          "iopub.execute_input": "2024-06-25T18:53:38.779876Z",
          "iopub.status.idle": "2024-06-25T18:53:38.791895Z",
          "shell.execute_reply.started": "2024-06-25T18:53:38.779833Z",
          "shell.execute_reply": "2024-06-25T18:53:38.790585Z"
        },
        "trusted": true,
        "id": "0Dd25OsUgwmA"
      },
      "execution_count": null,
      "outputs": []
    },
    {
      "cell_type": "code",
      "source": [
        "X = data[features]\n",
        "y = data[target]"
      ],
      "metadata": {
        "execution": {
          "iopub.status.busy": "2024-06-25T18:53:38.793459Z",
          "iopub.execute_input": "2024-06-25T18:53:38.79391Z",
          "iopub.status.idle": "2024-06-25T18:53:38.806462Z",
          "shell.execute_reply.started": "2024-06-25T18:53:38.793876Z",
          "shell.execute_reply": "2024-06-25T18:53:38.805207Z"
        },
        "trusted": true,
        "id": "RLa7W1X7gwmA"
      },
      "execution_count": null,
      "outputs": []
    },
    {
      "cell_type": "code",
      "source": [
        "X_train, X_test, y_train, y_test = train_test_split(X, y, test_size=0.2, random_state=42)\n",
        "\n",
        "scaler = StandardScaler()\n",
        "X_train_scaled = scaler.fit_transform(X_train)\n",
        "X_test_scaled = scaler.transform(X_test)\n",
        "\n",
        "regressor = RandomForestRegressor()\n",
        "regressor.fit(X_train_scaled, y_train)\n"
      ],
      "metadata": {
        "execution": {
          "iopub.status.busy": "2024-06-25T18:53:38.808096Z",
          "iopub.execute_input": "2024-06-25T18:53:38.808495Z",
          "iopub.status.idle": "2024-06-25T18:53:39.084151Z",
          "shell.execute_reply.started": "2024-06-25T18:53:38.808462Z",
          "shell.execute_reply": "2024-06-25T18:53:39.08291Z"
        },
        "trusted": true,
        "id": "lem6K3gjgwmB"
      },
      "execution_count": null,
      "outputs": []
    },
    {
      "cell_type": "code",
      "source": [
        "y_pred = regressor.predict(X_test_scaled)\n",
        "\n",
        "r_squared = r2_score(y_test, y_pred)\n",
        "rmse = np.sqrt(mean_squared_error(y_test, y_pred))\n",
        "mae = mean_absolute_error(y_test, y_pred)\n",
        "mape = np.mean(np.abs((y_test - y_pred) / y_test)) * 100\n",
        "\n",
        "# Print the evaluation metrics\n",
        "print(f'R-squared: {r_squared:.2f}')\n",
        "print(f'RMSE: {rmse:.2f}')\n",
        "print(f'MAE: {mae:.2f}')\n",
        "print(f'MAPE: {mape:.2f}%')"
      ],
      "metadata": {
        "execution": {
          "iopub.status.busy": "2024-06-25T18:54:51.050111Z",
          "iopub.execute_input": "2024-06-25T18:54:51.05051Z",
          "iopub.status.idle": "2024-06-25T18:54:51.070597Z",
          "shell.execute_reply.started": "2024-06-25T18:54:51.050472Z",
          "shell.execute_reply": "2024-06-25T18:54:51.069263Z"
        },
        "trusted": true,
        "id": "U9tiNDWYgwmB"
      },
      "execution_count": null,
      "outputs": []
    },
    {
      "cell_type": "code",
      "source": [
        "_ = plt.scatter(y_test, y_pred)"
      ],
      "metadata": {
        "execution": {
          "iopub.status.busy": "2024-06-25T18:54:52.985592Z",
          "iopub.execute_input": "2024-06-25T18:54:52.986844Z",
          "iopub.status.idle": "2024-06-25T18:54:53.356148Z",
          "shell.execute_reply.started": "2024-06-25T18:54:52.986791Z",
          "shell.execute_reply": "2024-06-25T18:54:53.354658Z"
        },
        "trusted": true,
        "id": "RFLPzLLpgwmB"
      },
      "execution_count": null,
      "outputs": []
    },
    {
      "cell_type": "code",
      "source": [
        "feature_importances = regressor.feature_importances_\n",
        "\n",
        "features = X.columns\n",
        "importances_df = pd.DataFrame({'Feature': features, 'Importance': feature_importances})\n",
        "importances_df = importances_df.sort_values(by='Importance', ascending=False)\n",
        "\n",
        "plt.figure(figsize=(12, 8))\n",
        "plt.barh(importances_df['Feature'], importances_df['Importance'])\n",
        "plt.xlabel('Importance')\n",
        "plt.ylabel('Feature')\n",
        "plt.title('Feature Importances from Random Forest Regressor')\n",
        "plt.gca().invert_yaxis()\n",
        "plt.show()\n"
      ],
      "metadata": {
        "execution": {
          "iopub.status.busy": "2024-06-25T18:54:53.711748Z",
          "iopub.execute_input": "2024-06-25T18:54:53.712301Z",
          "iopub.status.idle": "2024-06-25T18:54:54.055345Z",
          "shell.execute_reply.started": "2024-06-25T18:54:53.712248Z",
          "shell.execute_reply": "2024-06-25T18:54:54.053676Z"
        },
        "trusted": true,
        "id": "xTQpnb4XgwmB"
      },
      "execution_count": null,
      "outputs": []
    },
    {
      "cell_type": "markdown",
      "source": [
        "Well, it seem to be a perfect model, like we got everything we need to know the number of matches. Like I told you before, I believe there is a mistake in this dataset input.\n",
        "\n"
      ],
      "metadata": {
        "execution": {
          "iopub.status.busy": "2024-06-25T18:54:58.155609Z",
          "iopub.execute_input": "2024-06-25T18:54:58.156049Z",
          "iopub.status.idle": "2024-06-25T18:54:58.165245Z",
          "shell.execute_reply.started": "2024-06-25T18:54:58.156013Z",
          "shell.execute_reply": "2024-06-25T18:54:58.163626Z"
        },
        "id": "yWDFf4pjgwmB"
      }
    },
    {
      "cell_type": "markdown",
      "source": [
        "# POST-MODEL EVALUATION"
      ],
      "metadata": {
        "id": "bv3aazHFgwmB"
      }
    },
    {
      "cell_type": "markdown",
      "source": [
        "As mentioned before, I found this model pretty weird and atypical. Accordingly to our feature importance only three variables are important for our prediction. I want to assess a few things before ending the analysis"
      ],
      "metadata": {
        "id": "rwfKmPNQgwmB"
      }
    },
    {
      "cell_type": "code",
      "source": [
        "data.head()"
      ],
      "metadata": {
        "execution": {
          "iopub.status.busy": "2024-06-25T18:56:01.430809Z",
          "iopub.execute_input": "2024-06-25T18:56:01.431305Z",
          "iopub.status.idle": "2024-06-25T18:56:01.447422Z",
          "shell.execute_reply.started": "2024-06-25T18:56:01.431248Z",
          "shell.execute_reply": "2024-06-25T18:56:01.446105Z"
        },
        "trusted": true,
        "id": "JGKzgGt9gwmC"
      },
      "execution_count": null,
      "outputs": []
    },
    {
      "cell_type": "code",
      "source": [
        "data.Matches.value_counts(1)"
      ],
      "metadata": {
        "execution": {
          "iopub.status.busy": "2024-06-25T18:56:16.485248Z",
          "iopub.execute_input": "2024-06-25T18:56:16.485742Z",
          "iopub.status.idle": "2024-06-25T18:56:16.496652Z",
          "shell.execute_reply.started": "2024-06-25T18:56:16.485689Z",
          "shell.execute_reply": "2024-06-25T18:56:16.495133Z"
        },
        "trusted": true,
        "id": "1t9FRD-KgwmC"
      },
      "execution_count": null,
      "outputs": []
    },
    {
      "cell_type": "markdown",
      "source": [
        "Is there any woman with the same amount of matches than a man?"
      ],
      "metadata": {
        "id": "4nu25QA2gwmC"
      }
    },
    {
      "cell_type": "code",
      "source": [
        "male_data = data.query(\"Gender==0\")\n",
        "male_data.Matches.value_counts(1)"
      ],
      "metadata": {
        "execution": {
          "iopub.status.busy": "2024-06-25T18:57:30.327272Z",
          "iopub.execute_input": "2024-06-25T18:57:30.327817Z",
          "iopub.status.idle": "2024-06-25T18:57:30.34502Z",
          "shell.execute_reply.started": "2024-06-25T18:57:30.32777Z",
          "shell.execute_reply": "2024-06-25T18:57:30.343654Z"
        },
        "trusted": true,
        "id": "-kR6saGGgwmC"
      },
      "execution_count": null,
      "outputs": []
    },
    {
      "cell_type": "code",
      "source": [
        "female_data = data.query(\"Gender==1\")\n",
        "female_data.Matches.value_counts(1)"
      ],
      "metadata": {
        "execution": {
          "iopub.status.busy": "2024-06-25T18:57:37.613145Z",
          "iopub.execute_input": "2024-06-25T18:57:37.613532Z",
          "iopub.status.idle": "2024-06-25T18:57:37.629022Z",
          "shell.execute_reply.started": "2024-06-25T18:57:37.613494Z",
          "shell.execute_reply": "2024-06-25T18:57:37.627814Z"
        },
        "trusted": true,
        "id": "W-_zATVNgwmC"
      },
      "execution_count": null,
      "outputs": []
    },
    {
      "cell_type": "markdown",
      "source": [
        "Well, actually there are some women with 70 matches, just like a few men. Although gender facilitates the prediction of matches, as men will necessarily have either 0 or 70 matches, there are still some things missing. Let's check the PurchasedVIP variable for each gender."
      ],
      "metadata": {
        "id": "vfCzp3xPgwmC"
      }
    },
    {
      "cell_type": "code",
      "source": [
        "pd.crosstab(male_data.PurchasedVIP, male_data.Matches)"
      ],
      "metadata": {
        "execution": {
          "iopub.status.busy": "2024-06-25T18:59:47.329631Z",
          "iopub.execute_input": "2024-06-25T18:59:47.330086Z",
          "iopub.status.idle": "2024-06-25T18:59:47.356952Z",
          "shell.execute_reply.started": "2024-06-25T18:59:47.330043Z",
          "shell.execute_reply": "2024-06-25T18:59:47.355236Z"
        },
        "trusted": true,
        "id": "Ayw19CyigwmC"
      },
      "execution_count": null,
      "outputs": []
    },
    {
      "cell_type": "markdown",
      "source": [
        "So if I know someone is a Male, I just need to know if he has PurchasedVIP to find the Matches! That's why is so easy to predict their matches!"
      ],
      "metadata": {
        "id": "j1bv84iPgwmD"
      }
    },
    {
      "cell_type": "code",
      "source": [
        "pd.crosstab(female_data.PurchasedVIP, female_data.Matches)"
      ],
      "metadata": {
        "execution": {
          "iopub.status.busy": "2024-06-25T19:00:35.840116Z",
          "iopub.execute_input": "2024-06-25T19:00:35.840563Z",
          "iopub.status.idle": "2024-06-25T19:00:35.866386Z",
          "shell.execute_reply.started": "2024-06-25T19:00:35.840524Z",
          "shell.execute_reply": "2024-06-25T19:00:35.865031Z"
        },
        "trusted": true,
        "id": "4UXj8QqMgwmD"
      },
      "execution_count": null,
      "outputs": []
    },
    {
      "cell_type": "markdown",
      "source": [
        "For female, knowing if she has PurchasedVIP is not enough. So we'll look at the third mostly important feature, accordingly to our previous model: Attractiveness!"
      ],
      "metadata": {
        "id": "A5SWObgpgwmD"
      }
    },
    {
      "cell_type": "code",
      "source": [
        "pd.crosstab(female_data.Attractiveness, female_data.Matches)"
      ],
      "metadata": {
        "execution": {
          "iopub.status.busy": "2024-06-25T19:01:28.240964Z",
          "iopub.execute_input": "2024-06-25T19:01:28.241397Z",
          "iopub.status.idle": "2024-06-25T19:01:28.269152Z",
          "shell.execute_reply.started": "2024-06-25T19:01:28.241361Z",
          "shell.execute_reply": "2024-06-25T19:01:28.267579Z"
        },
        "trusted": true,
        "id": "7wpHh6z2gwmD"
      },
      "execution_count": null,
      "outputs": []
    },
    {
      "cell_type": "markdown",
      "source": [
        "Well, that's it! By knowing the female attractiveness, you know her number of matches! That's why we found a perfect model, the variables follow a specific pattern directly related to the number of matches."
      ],
      "metadata": {
        "id": "xeuddFX7gwmD"
      }
    },
    {
      "cell_type": "markdown",
      "source": [
        "Well, hope you enjoyed this investigation! Cheers!"
      ],
      "metadata": {
        "id": "hpmQU4mUgwmD"
      }
    }
  ]
}